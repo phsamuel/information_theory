{
 "cells": [
  {
   "cell_type": "markdown",
   "metadata": {},
   "source": [
    "### Source code for OU ECE-5583: Information Theory and Probabilistic Programming\n",
    "\n",
    "[course website](https://samuelcheng.us/information_theory_2023/index.html), [video](https://mymedia.ou.edu/media/IT2023+-+Lecture+2+/1_foag9f2i)\n",
    "\n",
    "# Weather and umbella"
   ]
  },
  {
   "cell_type": "code",
   "execution_count": null,
   "metadata": {},
   "outputs": [],
   "source": [
    "import lea\n",
    "import numpy as np\n",
    "\n",
    "_jpd = lea.pmf({('R',0):0.2, ('S',0): 0.5, ('R',1): 0.2, ('S',1):0.1})\n",
    "jpd = _jpd.as_joint('weather','umbella')"
   ]
  },
  {
   "cell_type": "code",
   "execution_count": 23,
   "metadata": {},
   "outputs": [
    {
     "data": {
      "text/plain": [
       "0.8812908992306927"
      ]
     },
     "execution_count": 23,
     "metadata": {},
     "output_type": "execute_result"
    }
   ],
   "source": [
    "jpd.umbella.entropy"
   ]
  },
  {
   "cell_type": "code",
   "execution_count": 27,
   "metadata": {},
   "outputs": [
    {
     "data": {
      "text/plain": [
       "0.8796731482129885"
      ]
     },
     "execution_count": 27,
     "metadata": {},
     "output_type": "execute_result"
    }
   ],
   "source": [
    "jpd.weather.cond_entropy(jpd.umbella)"
   ]
  },
  {
   "cell_type": "code",
   "execution_count": 28,
   "metadata": {},
   "outputs": [
    {
     "data": {
      "text/plain": [
       "1.7609640474436812"
      ]
     },
     "execution_count": 28,
     "metadata": {},
     "output_type": "execute_result"
    }
   ],
   "source": [
    "jpd.weather.cond_entropy(jpd.umbella)+jpd.umbella.entropy"
   ]
  },
  {
   "cell_type": "code",
   "execution_count": 20,
   "metadata": {},
   "outputs": [
    {
     "data": {
      "text/plain": [
       "1.7609640474436812"
      ]
     },
     "execution_count": 20,
     "metadata": {},
     "output_type": "execute_result"
    }
   ],
   "source": [
    "jpd.entropy"
   ]
  },
  {
   "cell_type": "code",
   "execution_count": 15,
   "metadata": {},
   "outputs": [
    {
     "data": {
      "text/plain": [
       "0.8812908992306927"
      ]
     },
     "execution_count": 15,
     "metadata": {},
     "output_type": "execute_result"
    }
   ],
   "source": [
    "jpd.umbella.entropy"
   ]
  },
  {
   "cell_type": "markdown",
   "metadata": {},
   "source": [
    "# Three dices"
   ]
  },
  {
   "cell_type": "code",
   "execution_count": 1,
   "metadata": {},
   "outputs": [
    {
     "name": "stderr",
     "output_type": "stream",
     "text": [
      "/usr/lib/python3/dist-packages/mpmath/ctx_mp_python.py:892: SyntaxWarning: \"is\" with a literal. Did you mean \"==\"?\n",
      "  if other is 0:\n",
      "/usr/lib/python3/dist-packages/mpmath/ctx_mp_python.py:986: SyntaxWarning: \"is\" with a literal. Did you mean \"==\"?\n",
      "  if other is 0:\n"
     ]
    }
   ],
   "source": [
    "import lea\n",
    "import numpy as np\n",
    "\n",
    "D1=lea.pmf(dict(zip(range(1,7),np.ones(6))))\n",
    "D2=lea.pmf(dict(zip(range(1,7),[1,1,1,1,3,3])))\n",
    "D3=lea.pmf(dict(zip(range(1,7),[3,3,1,1,1,1])))\n",
    "D=lea.vals(*'1222333333')\n",
    "Xs=D.switch({'1':lea.joint(D1,D1.new()),\n",
    "            '2':lea.joint(D2,D2.new()),\n",
    "            '3':lea.joint(D3,D3.new())})"
   ]
  },
  {
   "cell_type": "code",
   "execution_count": 2,
   "metadata": {},
   "outputs": [
    {
     "data": {
      "text/plain": [
       "2.521216805870819"
      ]
     },
     "execution_count": 2,
     "metadata": {},
     "output_type": "execute_result"
    }
   ],
   "source": [
    "Xs[0].entropy"
   ]
  },
  {
   "cell_type": "code",
   "execution_count": 19,
   "metadata": {},
   "outputs": [
    {
     "data": {
      "text/plain": [
       "2.392351785081317"
      ]
     },
     "execution_count": 19,
     "metadata": {},
     "output_type": "execute_result"
    }
   ],
   "source": [
    "Xs[0].cond_entropy(D)"
   ]
  },
  {
   "cell_type": "code",
   "execution_count": 20,
   "metadata": {},
   "outputs": [
    {
     "data": {
      "text/plain": [
       "3.6878136293196393"
      ]
     },
     "execution_count": 20,
     "metadata": {},
     "output_type": "execute_result"
    }
   ],
   "source": [
    "lea.joint(D,Xs[0]).entropy"
   ]
  },
  {
   "cell_type": "markdown",
   "metadata": {},
   "source": [
    "# Bayesian net"
   ]
  },
  {
   "cell_type": "code",
   "execution_count": 1,
   "metadata": {},
   "outputs": [],
   "source": [
    "import lea\n",
    "burglary   = lea.event(0.001)\n",
    "earthquake = lea.event(0.002)\n",
    "alarm = lea.joint(burglary,earthquake).switch({ (True ,True ) : lea.event(0.950),\n",
    "                                                (True ,False) : lea.event(0.940),\n",
    "                                                (False,True ) : lea.event(0.290),\n",
    "                                                (False,False) : lea.event(0.001) })\n",
    "john_calls = alarm.switch({ True  : lea.event(0.90),\n",
    "                            False : lea.event(0.05) })\n",
    "mary_calls = alarm.switch({ True  : lea.event(0.70),\n",
    "                            False : lea.event(0.01) })"
   ]
  },
  {
   "cell_type": "code",
   "execution_count": 2,
   "metadata": {},
   "outputs": [
    {
     "data": {
      "text/plain": [
       "False : 0.30000000000000004\n",
       "True  : 0.7"
      ]
     },
     "execution_count": 2,
     "metadata": {},
     "output_type": "execute_result"
    }
   ],
   "source": [
    "mary_calls.given(alarm)"
   ]
  },
  {
   "cell_type": "code",
   "execution_count": 3,
   "metadata": {},
   "outputs": [
    {
     "data": {
      "text/plain": [
       "False : 0.3413862000000001\n",
       "True  : 0.6586138"
      ]
     },
     "execution_count": 3,
     "metadata": {},
     "output_type": "execute_result"
    }
   ],
   "source": [
    "mary_calls.given(burglary)"
   ]
  },
  {
   "cell_type": "code",
   "execution_count": 4,
   "metadata": {},
   "outputs": [
    {
     "data": {
      "text/plain": [
       "False : 0.6264487717181639\n",
       "True  : 0.373551228281836"
      ]
     },
     "execution_count": 4,
     "metadata": {},
     "output_type": "execute_result"
    }
   ],
   "source": [
    "burglary.given(alarm)"
   ]
  },
  {
   "cell_type": "code",
   "execution_count": 5,
   "metadata": {},
   "outputs": [
    {
     "data": {
      "text/plain": [
       "False : 0.8499098822502404\n",
       "True  : 0.1500901177497596"
      ]
     },
     "execution_count": 5,
     "metadata": {},
     "output_type": "execute_result"
    }
   ],
   "source": [
    "alarm.given(mary_calls)"
   ]
  },
  {
   "cell_type": "code",
   "execution_count": 6,
   "metadata": {},
   "outputs": [
    {
     "data": {
      "text/plain": [
       "False : 0.9851857884750143\n",
       "True  : 0.014814211524985795"
      ]
     },
     "execution_count": 6,
     "metadata": {},
     "output_type": "execute_result"
    }
   ],
   "source": [
    "burglary.given(mary_calls|john_calls)"
   ]
  },
  {
   "cell_type": "code",
   "execution_count": 7,
   "metadata": {},
   "outputs": [
    {
     "data": {
      "text/plain": [
       "0.0025164420000000002"
      ]
     },
     "execution_count": 7,
     "metadata": {},
     "output_type": "execute_result"
    }
   ],
   "source": [
    "lea.P(alarm)"
   ]
  },
  {
   "cell_type": "code",
   "execution_count": 8,
   "metadata": {},
   "outputs": [
    {
     "data": {
      "text/plain": [
       "0.0006586138000000001"
      ]
     },
     "execution_count": 8,
     "metadata": {},
     "output_type": "execute_result"
    }
   ],
   "source": [
    "lea.P(burglary & mary_calls)"
   ]
  },
  {
   "cell_type": "code",
   "execution_count": 9,
   "metadata": {},
   "outputs": [
    {
     "data": {
      "text/plain": [
       "False : 0.99937188874\n",
       "True  : 0.00062811126"
      ]
     },
     "execution_count": 9,
     "metadata": {},
     "output_type": "execute_result"
    }
   ],
   "source": [
    "~ burglary & ~earthquake & alarm & john_calls & mary_calls"
   ]
  },
  {
   "cell_type": "code",
   "execution_count": 10,
   "metadata": {},
   "outputs": [
    {
     "data": {
      "text/plain": [
       "(False, False, False, False, False) : 0.9367427006190001\n",
       "(False, False, False, False, True ) : 0.009462047481000001\n",
       "(False, False, False, True , False) : 0.04930224740100002\n",
       "(False, False, False, True , True ) : 0.0004980024990000002\n",
       "(False, False, True , False, False) : 2.9910060000000004e-05\n",
       "(False, False, True , False, True ) : 6.979013999999999e-05\n",
       "(False, False, True , True , False) : 0.00026919054000000005\n",
       "(False, False, True , True , True ) : 0.00062811126\n",
       "(False, True , False, False, False) : 0.0013341744900000002\n",
       "(False, True , False, False, True ) : 1.3476510000000005e-05\n",
       "(False, True , False, True , False) : 7.021971000000001e-05\n",
       "(False, True , False, True , True ) : 7.092900000000001e-07\n",
       "(False, True , True , False, False) : 1.7382600000000002e-05\n",
       "(False, True , True , False, True ) : 4.0559399999999997e-05\n",
       "(False, True , True , True , False) : 0.00015644340000000006\n",
       "(False, True , True , True , True ) : 0.00036503460000000007\n",
       "(True , False, False, False, False) : 5.631714000000006e-05\n",
       "(True , False, False, False, True ) : 5.688600000000006e-07\n",
       "(True , False, False, True , False) : 2.9640600000000033e-06\n",
       "(True , False, False, True , True ) : 2.9940000000000035e-08\n",
       "(True , False, True , False, False) : 2.8143600000000003e-05\n",
       "(True , False, True , False, True ) : 6.56684e-05\n",
       "(True , False, True , True , False) : 0.0002532924000000001\n",
       "(True , False, True , True , True ) : 0.0005910156000000001\n",
       "(True , True , False, False, False) : 9.40500000000001e-08\n",
       "(True , True , False, False, True ) : 9.50000000000001e-10\n",
       "(True , True , False, True , False) : 4.9500000000000054e-09\n",
       "(True , True , False, True , True ) : 5.0000000000000066e-11\n",
       "(True , True , True , False, False) : 5.7e-08\n",
       "(True , True , True , False, True ) : 1.3299999999999996e-07\n",
       "(True , True , True , True , False) : 5.130000000000002e-07\n",
       "(True , True , True , True , True ) : 1.1970000000000001e-06"
      ]
     },
     "execution_count": 10,
     "metadata": {},
     "output_type": "execute_result"
    }
   ],
   "source": [
    "lea.joint(burglary,earthquake,alarm,john_calls,mary_calls)"
   ]
  }
 ],
 "metadata": {
  "kernelspec": {
   "display_name": "Python 3 (ipykernel)",
   "language": "python",
   "name": "python3"
  },
  "language_info": {
   "codemirror_mode": {
    "name": "ipython",
    "version": 3
   },
   "file_extension": ".py",
   "mimetype": "text/x-python",
   "name": "python",
   "nbconvert_exporter": "python",
   "pygments_lexer": "ipython3",
   "version": "3.10.12"
  }
 },
 "nbformat": 4,
 "nbformat_minor": 4
}
